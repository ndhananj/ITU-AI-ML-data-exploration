{
 "cells": [
  {
   "cell_type": "code",
   "execution_count": 1,
   "id": "59e1074b-b7a6-4704-b2a9-c42fddcd75c1",
   "metadata": {},
   "outputs": [],
   "source": [
    "import pandas as pd\n",
    "import os"
   ]
  },
  {
   "cell_type": "code",
   "execution_count": 29,
   "id": "10b38124-00be-4a49-8d84-91b92f8d950f",
   "metadata": {},
   "outputs": [
    {
     "data": {
      "text/html": [
       "<div>\n",
       "<style scoped>\n",
       "    .dataframe tbody tr th:only-of-type {\n",
       "        vertical-align: middle;\n",
       "    }\n",
       "\n",
       "    .dataframe tbody tr th {\n",
       "        vertical-align: top;\n",
       "    }\n",
       "\n",
       "    .dataframe thead th {\n",
       "        text-align: right;\n",
       "    }\n",
       "</style>\n",
       "<table border=\"1\" class=\"dataframe\">\n",
       "  <thead>\n",
       "    <tr style=\"text-align: right;\">\n",
       "      <th></th>\n",
       "      <th>Destination Port</th>\n",
       "      <th>Flow Duration</th>\n",
       "      <th>Total Fwd Packets</th>\n",
       "      <th>Total Backward Packets</th>\n",
       "      <th>Total Length of Fwd Packets</th>\n",
       "      <th>Total Length of Bwd Packets</th>\n",
       "      <th>Fwd Packet Length Max</th>\n",
       "      <th>Fwd Packet Length Min</th>\n",
       "      <th>Fwd Packet Length Mean</th>\n",
       "      <th>Fwd Packet Length Std</th>\n",
       "      <th>...</th>\n",
       "      <th>min_seg_size_forward</th>\n",
       "      <th>Active Mean</th>\n",
       "      <th>Active Std</th>\n",
       "      <th>Active Max</th>\n",
       "      <th>Active Min</th>\n",
       "      <th>Idle Mean</th>\n",
       "      <th>Idle Std</th>\n",
       "      <th>Idle Max</th>\n",
       "      <th>Idle Min</th>\n",
       "      <th>Label</th>\n",
       "    </tr>\n",
       "  </thead>\n",
       "  <tbody>\n",
       "    <tr>\n",
       "      <th>0</th>\n",
       "      <td>80</td>\n",
       "      <td>68855579</td>\n",
       "      <td>10</td>\n",
       "      <td>6</td>\n",
       "      <td>1038</td>\n",
       "      <td>11595</td>\n",
       "      <td>346</td>\n",
       "      <td>0</td>\n",
       "      <td>103.800000</td>\n",
       "      <td>167.133879</td>\n",
       "      <td>...</td>\n",
       "      <td>32</td>\n",
       "      <td>998.0000</td>\n",
       "      <td>0.0000</td>\n",
       "      <td>998</td>\n",
       "      <td>998</td>\n",
       "      <td>6.830000e+07</td>\n",
       "      <td>0.0000</td>\n",
       "      <td>68300000</td>\n",
       "      <td>68300000</td>\n",
       "      <td>DoS Hulk</td>\n",
       "    </tr>\n",
       "    <tr>\n",
       "      <th>1</th>\n",
       "      <td>53</td>\n",
       "      <td>196</td>\n",
       "      <td>2</td>\n",
       "      <td>2</td>\n",
       "      <td>70</td>\n",
       "      <td>174</td>\n",
       "      <td>35</td>\n",
       "      <td>35</td>\n",
       "      <td>35.000000</td>\n",
       "      <td>0.000000</td>\n",
       "      <td>...</td>\n",
       "      <td>32</td>\n",
       "      <td>0.0000</td>\n",
       "      <td>0.0000</td>\n",
       "      <td>0</td>\n",
       "      <td>0</td>\n",
       "      <td>0.000000e+00</td>\n",
       "      <td>0.0000</td>\n",
       "      <td>0</td>\n",
       "      <td>0</td>\n",
       "      <td>BENIGN</td>\n",
       "    </tr>\n",
       "    <tr>\n",
       "      <th>2</th>\n",
       "      <td>123</td>\n",
       "      <td>118</td>\n",
       "      <td>2</td>\n",
       "      <td>2</td>\n",
       "      <td>96</td>\n",
       "      <td>96</td>\n",
       "      <td>48</td>\n",
       "      <td>48</td>\n",
       "      <td>48.000000</td>\n",
       "      <td>0.000000</td>\n",
       "      <td>...</td>\n",
       "      <td>20</td>\n",
       "      <td>0.0000</td>\n",
       "      <td>0.0000</td>\n",
       "      <td>0</td>\n",
       "      <td>0</td>\n",
       "      <td>0.000000e+00</td>\n",
       "      <td>0.0000</td>\n",
       "      <td>0</td>\n",
       "      <td>0</td>\n",
       "      <td>BENIGN</td>\n",
       "    </tr>\n",
       "    <tr>\n",
       "      <th>3</th>\n",
       "      <td>80</td>\n",
       "      <td>295657</td>\n",
       "      <td>7</td>\n",
       "      <td>10</td>\n",
       "      <td>1114</td>\n",
       "      <td>15841</td>\n",
       "      <td>1084</td>\n",
       "      <td>0</td>\n",
       "      <td>159.142857</td>\n",
       "      <td>407.829796</td>\n",
       "      <td>...</td>\n",
       "      <td>20</td>\n",
       "      <td>0.0000</td>\n",
       "      <td>0.0000</td>\n",
       "      <td>0</td>\n",
       "      <td>0</td>\n",
       "      <td>0.000000e+00</td>\n",
       "      <td>0.0000</td>\n",
       "      <td>0</td>\n",
       "      <td>0</td>\n",
       "      <td>BENIGN</td>\n",
       "    </tr>\n",
       "    <tr>\n",
       "      <th>4</th>\n",
       "      <td>80</td>\n",
       "      <td>15705351</td>\n",
       "      <td>7</td>\n",
       "      <td>5</td>\n",
       "      <td>407</td>\n",
       "      <td>452</td>\n",
       "      <td>377</td>\n",
       "      <td>0</td>\n",
       "      <td>58.142857</td>\n",
       "      <td>140.620563</td>\n",
       "      <td>...</td>\n",
       "      <td>20</td>\n",
       "      <td>360718.0000</td>\n",
       "      <td>0.0000</td>\n",
       "      <td>360718</td>\n",
       "      <td>360718</td>\n",
       "      <td>9.767208e+06</td>\n",
       "      <td>0.0000</td>\n",
       "      <td>9767208</td>\n",
       "      <td>9767208</td>\n",
       "      <td>BENIGN</td>\n",
       "    </tr>\n",
       "    <tr>\n",
       "      <th>...</th>\n",
       "      <td>...</td>\n",
       "      <td>...</td>\n",
       "      <td>...</td>\n",
       "      <td>...</td>\n",
       "      <td>...</td>\n",
       "      <td>...</td>\n",
       "      <td>...</td>\n",
       "      <td>...</td>\n",
       "      <td>...</td>\n",
       "      <td>...</td>\n",
       "      <td>...</td>\n",
       "      <td>...</td>\n",
       "      <td>...</td>\n",
       "      <td>...</td>\n",
       "      <td>...</td>\n",
       "      <td>...</td>\n",
       "      <td>...</td>\n",
       "      <td>...</td>\n",
       "      <td>...</td>\n",
       "      <td>...</td>\n",
       "      <td>...</td>\n",
       "    </tr>\n",
       "    <tr>\n",
       "      <th>1783351</th>\n",
       "      <td>41272</td>\n",
       "      <td>98689782</td>\n",
       "      <td>8</td>\n",
       "      <td>5</td>\n",
       "      <td>11595</td>\n",
       "      <td>327</td>\n",
       "      <td>5792</td>\n",
       "      <td>0</td>\n",
       "      <td>1449.375000</td>\n",
       "      <td>2046.673464</td>\n",
       "      <td>...</td>\n",
       "      <td>32</td>\n",
       "      <td>13859.0000</td>\n",
       "      <td>0.0000</td>\n",
       "      <td>13859</td>\n",
       "      <td>13859</td>\n",
       "      <td>9.860000e+07</td>\n",
       "      <td>0.0000</td>\n",
       "      <td>98600000</td>\n",
       "      <td>98600000</td>\n",
       "      <td>BENIGN</td>\n",
       "    </tr>\n",
       "    <tr>\n",
       "      <th>1783352</th>\n",
       "      <td>443</td>\n",
       "      <td>90956783</td>\n",
       "      <td>63</td>\n",
       "      <td>77</td>\n",
       "      <td>1041</td>\n",
       "      <td>135313</td>\n",
       "      <td>373</td>\n",
       "      <td>0</td>\n",
       "      <td>16.523810</td>\n",
       "      <td>68.018939</td>\n",
       "      <td>...</td>\n",
       "      <td>32</td>\n",
       "      <td>198255.7778</td>\n",
       "      <td>362537.3486</td>\n",
       "      <td>1165022</td>\n",
       "      <td>77291</td>\n",
       "      <td>9.908053e+06</td>\n",
       "      <td>290822.6482</td>\n",
       "      <td>10000000</td>\n",
       "      <td>9132848</td>\n",
       "      <td>BENIGN</td>\n",
       "    </tr>\n",
       "    <tr>\n",
       "      <th>1783353</th>\n",
       "      <td>443</td>\n",
       "      <td>1241813</td>\n",
       "      <td>3</td>\n",
       "      <td>3</td>\n",
       "      <td>0</td>\n",
       "      <td>0</td>\n",
       "      <td>0</td>\n",
       "      <td>0</td>\n",
       "      <td>0.000000</td>\n",
       "      <td>0.000000</td>\n",
       "      <td>...</td>\n",
       "      <td>28</td>\n",
       "      <td>0.0000</td>\n",
       "      <td>0.0000</td>\n",
       "      <td>0</td>\n",
       "      <td>0</td>\n",
       "      <td>0.000000e+00</td>\n",
       "      <td>0.0000</td>\n",
       "      <td>0</td>\n",
       "      <td>0</td>\n",
       "      <td>BENIGN</td>\n",
       "    </tr>\n",
       "    <tr>\n",
       "      <th>1783354</th>\n",
       "      <td>53</td>\n",
       "      <td>71509</td>\n",
       "      <td>2</td>\n",
       "      <td>2</td>\n",
       "      <td>78</td>\n",
       "      <td>330</td>\n",
       "      <td>39</td>\n",
       "      <td>39</td>\n",
       "      <td>39.000000</td>\n",
       "      <td>0.000000</td>\n",
       "      <td>...</td>\n",
       "      <td>32</td>\n",
       "      <td>0.0000</td>\n",
       "      <td>0.0000</td>\n",
       "      <td>0</td>\n",
       "      <td>0</td>\n",
       "      <td>0.000000e+00</td>\n",
       "      <td>0.0000</td>\n",
       "      <td>0</td>\n",
       "      <td>0</td>\n",
       "      <td>BENIGN</td>\n",
       "    </tr>\n",
       "    <tr>\n",
       "      <th>1783355</th>\n",
       "      <td>4306</td>\n",
       "      <td>2167</td>\n",
       "      <td>2</td>\n",
       "      <td>0</td>\n",
       "      <td>0</td>\n",
       "      <td>0</td>\n",
       "      <td>0</td>\n",
       "      <td>0</td>\n",
       "      <td>0.000000</td>\n",
       "      <td>0.000000</td>\n",
       "      <td>...</td>\n",
       "      <td>20</td>\n",
       "      <td>0.0000</td>\n",
       "      <td>0.0000</td>\n",
       "      <td>0</td>\n",
       "      <td>0</td>\n",
       "      <td>0.000000e+00</td>\n",
       "      <td>0.0000</td>\n",
       "      <td>0</td>\n",
       "      <td>0</td>\n",
       "      <td>BENIGN</td>\n",
       "    </tr>\n",
       "  </tbody>\n",
       "</table>\n",
       "<p>1782497 rows × 79 columns</p>\n",
       "</div>"
      ],
      "text/plain": [
       "          Destination Port   Flow Duration   Total Fwd Packets  \\\n",
       "0                       80        68855579                  10   \n",
       "1                       53             196                   2   \n",
       "2                      123             118                   2   \n",
       "3                       80          295657                   7   \n",
       "4                       80        15705351                   7   \n",
       "...                    ...             ...                 ...   \n",
       "1783351              41272        98689782                   8   \n",
       "1783352                443        90956783                  63   \n",
       "1783353                443         1241813                   3   \n",
       "1783354                 53           71509                   2   \n",
       "1783355               4306            2167                   2   \n",
       "\n",
       "          Total Backward Packets  Total Length of Fwd Packets  \\\n",
       "0                              6                         1038   \n",
       "1                              2                           70   \n",
       "2                              2                           96   \n",
       "3                             10                         1114   \n",
       "4                              5                          407   \n",
       "...                          ...                          ...   \n",
       "1783351                        5                        11595   \n",
       "1783352                       77                         1041   \n",
       "1783353                        3                            0   \n",
       "1783354                        2                           78   \n",
       "1783355                        0                            0   \n",
       "\n",
       "          Total Length of Bwd Packets   Fwd Packet Length Max  \\\n",
       "0                               11595                     346   \n",
       "1                                 174                      35   \n",
       "2                                  96                      48   \n",
       "3                               15841                    1084   \n",
       "4                                 452                     377   \n",
       "...                               ...                     ...   \n",
       "1783351                           327                    5792   \n",
       "1783352                        135313                     373   \n",
       "1783353                             0                       0   \n",
       "1783354                           330                      39   \n",
       "1783355                             0                       0   \n",
       "\n",
       "          Fwd Packet Length Min   Fwd Packet Length Mean  \\\n",
       "0                             0               103.800000   \n",
       "1                            35                35.000000   \n",
       "2                            48                48.000000   \n",
       "3                             0               159.142857   \n",
       "4                             0                58.142857   \n",
       "...                         ...                      ...   \n",
       "1783351                       0              1449.375000   \n",
       "1783352                       0                16.523810   \n",
       "1783353                       0                 0.000000   \n",
       "1783354                      39                39.000000   \n",
       "1783355                       0                 0.000000   \n",
       "\n",
       "          Fwd Packet Length Std  ...   min_seg_size_forward  Active Mean  \\\n",
       "0                    167.133879  ...                     32     998.0000   \n",
       "1                      0.000000  ...                     32       0.0000   \n",
       "2                      0.000000  ...                     20       0.0000   \n",
       "3                    407.829796  ...                     20       0.0000   \n",
       "4                    140.620563  ...                     20  360718.0000   \n",
       "...                         ...  ...                    ...          ...   \n",
       "1783351             2046.673464  ...                     32   13859.0000   \n",
       "1783352               68.018939  ...                     32  198255.7778   \n",
       "1783353                0.000000  ...                     28       0.0000   \n",
       "1783354                0.000000  ...                     32       0.0000   \n",
       "1783355                0.000000  ...                     20       0.0000   \n",
       "\n",
       "          Active Std   Active Max   Active Min     Idle Mean     Idle Std  \\\n",
       "0             0.0000          998          998  6.830000e+07       0.0000   \n",
       "1             0.0000            0            0  0.000000e+00       0.0000   \n",
       "2             0.0000            0            0  0.000000e+00       0.0000   \n",
       "3             0.0000            0            0  0.000000e+00       0.0000   \n",
       "4             0.0000       360718       360718  9.767208e+06       0.0000   \n",
       "...              ...          ...          ...           ...          ...   \n",
       "1783351       0.0000        13859        13859  9.860000e+07       0.0000   \n",
       "1783352  362537.3486      1165022        77291  9.908053e+06  290822.6482   \n",
       "1783353       0.0000            0            0  0.000000e+00       0.0000   \n",
       "1783354       0.0000            0            0  0.000000e+00       0.0000   \n",
       "1783355       0.0000            0            0  0.000000e+00       0.0000   \n",
       "\n",
       "          Idle Max   Idle Min     Label  \n",
       "0         68300000   68300000  DoS Hulk  \n",
       "1                0          0    BENIGN  \n",
       "2                0          0    BENIGN  \n",
       "3                0          0    BENIGN  \n",
       "4          9767208    9767208    BENIGN  \n",
       "...            ...        ...       ...  \n",
       "1783351   98600000   98600000    BENIGN  \n",
       "1783352   10000000    9132848    BENIGN  \n",
       "1783353          0          0    BENIGN  \n",
       "1783354          0          0    BENIGN  \n",
       "1783355          0          0    BENIGN  \n",
       "\n",
       "[1782497 rows x 79 columns]"
      ]
     },
     "execution_count": 29,
     "metadata": {},
     "output_type": "execute_result"
    }
   ],
   "source": [
    "df = pd.read_csv('Train_ULAK.csv').dropna()\n",
    "df"
   ]
  },
  {
   "cell_type": "code",
   "execution_count": 30,
   "id": "85de1086-3e8e-498a-b965-8481cbef0f4f",
   "metadata": {},
   "outputs": [],
   "source": [
    "## Let's see if some assumption based on domain knowlwdge hold\n",
    "# For this reason, let's split by label to start\n",
    "gb=df.groupby(' Label')\n",
    "dfs = [gb.get_group(x) for x in gb.groups]"
   ]
  },
  {
   "cell_type": "code",
   "execution_count": 31,
   "id": "6e8d0896-6b29-469a-8281-c24825a3dddc",
   "metadata": {},
   "outputs": [
    {
     "data": {
      "text/plain": [
       "[array(['BENIGN'], dtype=object),\n",
       " array(['Bot'], dtype=object),\n",
       " array(['DDoS'], dtype=object),\n",
       " array(['DoS GoldenEye'], dtype=object),\n",
       " array(['DoS Hulk'], dtype=object),\n",
       " array(['DoS Slowhttptest'], dtype=object),\n",
       " array(['DoS slowloris'], dtype=object),\n",
       " array(['FTP-Patator'], dtype=object),\n",
       " array(['Heartbleed'], dtype=object),\n",
       " array(['Infiltration'], dtype=object),\n",
       " array(['PortScan'], dtype=object),\n",
       " array(['SSH-Patator'], dtype=object),\n",
       " array(['Web Attack � Brute Force'], dtype=object),\n",
       " array(['Web Attack � Sql Injection'], dtype=object),\n",
       " array(['Web Attack � XSS'], dtype=object)]"
      ]
     },
     "execution_count": 31,
     "metadata": {},
     "output_type": "execute_result"
    }
   ],
   "source": [
    "import numpy as np\n",
    "# This will let us know how to associate each group with a label\n",
    "labels_per_group = [np.unique(df[[' Label']]) for df in dfs]\n",
    "labels_per_group"
   ]
  },
  {
   "cell_type": "markdown",
   "id": "cca72042-0680-4901-8bc2-8546d0c28995",
   "metadata": {},
   "source": [
    "# Level 1 filtering, the type of attack can only happen on particular destination port"
   ]
  },
  {
   "cell_type": "markdown",
   "id": "ccb7bb25-f193-4f29-a904-9c33691ac241",
   "metadata": {
    "jp-MarkdownHeadingCollapsed": true
   },
   "source": [
    "## Let's check if web attacks happen only on ports 80 and 443"
   ]
  },
  {
   "cell_type": "code",
   "execution_count": 32,
   "id": "22b2d4a7-57e3-4eb5-826b-42c50e0f3b5d",
   "metadata": {},
   "outputs": [
    {
     "data": {
      "text/plain": [
       "[array(['Web Attack � Brute Force'], dtype=object),\n",
       " array(['Web Attack � Sql Injection'], dtype=object),\n",
       " array(['Web Attack � XSS'], dtype=object)]"
      ]
     },
     "execution_count": 32,
     "metadata": {},
     "output_type": "execute_result"
    }
   ],
   "source": [
    "# Confirm the indeces for web attacks\n",
    "labels_per_group[12:]"
   ]
  },
  {
   "cell_type": "code",
   "execution_count": 33,
   "id": "3f743d5a-9607-466f-8fb7-8f067c94ee53",
   "metadata": {},
   "outputs": [
    {
     "data": {
      "text/plain": [
       "[array([80]), array([80]), array([80])]"
      ]
     },
     "execution_count": 33,
     "metadata": {},
     "output_type": "execute_result"
    }
   ],
   "source": [
    "# In the training set only port 80 shows up\n",
    "[np.unique(df[[' Destination Port']]) for df in dfs[12:]]"
   ]
  },
  {
   "cell_type": "markdown",
   "id": "96f7c14e-466d-4e7e-ad96-073bf67d23ee",
   "metadata": {
    "jp-MarkdownHeadingCollapsed": true
   },
   "source": [
    "## Lets check that SSH_Patator only happens on port 22"
   ]
  },
  {
   "cell_type": "code",
   "execution_count": 34,
   "id": "68c06679-c9ae-4dfd-b682-8302611d33ef",
   "metadata": {},
   "outputs": [
    {
     "data": {
      "text/plain": [
       "array(['SSH-Patator'], dtype=object)"
      ]
     },
     "execution_count": 34,
     "metadata": {},
     "output_type": "execute_result"
    }
   ],
   "source": [
    "# Confirm the indeces for SSH-Patator\n",
    "labels_per_group[11]"
   ]
  },
  {
   "cell_type": "code",
   "execution_count": 35,
   "id": "e7e742cd-b8dc-4c88-8524-8df7e674dfac",
   "metadata": {},
   "outputs": [
    {
     "data": {
      "text/plain": [
       "[array([22])]"
      ]
     },
     "execution_count": 35,
     "metadata": {},
     "output_type": "execute_result"
    }
   ],
   "source": [
    "# In the training set only port 22 shows up\n",
    "[np.unique(df[[' Destination Port']]) for df in dfs[11:12]]"
   ]
  },
  {
   "cell_type": "markdown",
   "id": "1f939d6e-50e9-48ca-9358-90370d53661a",
   "metadata": {
    "jp-MarkdownHeadingCollapsed": true
   },
   "source": [
    "## Let's check the FTP-Patator only happens on port 21"
   ]
  },
  {
   "cell_type": "code",
   "execution_count": 36,
   "id": "b2be1552-a3f3-43b7-82ab-98b984cc03f8",
   "metadata": {},
   "outputs": [
    {
     "data": {
      "text/plain": [
       "array(['FTP-Patator'], dtype=object)"
      ]
     },
     "execution_count": 36,
     "metadata": {},
     "output_type": "execute_result"
    }
   ],
   "source": [
    "# Confirm the indeces for FTP-Patator\n",
    "labels_per_group[7]"
   ]
  },
  {
   "cell_type": "code",
   "execution_count": 37,
   "id": "25b953dd-2ab0-413a-aeb2-a50d024b6873",
   "metadata": {},
   "outputs": [
    {
     "data": {
      "text/plain": [
       "[array([21])]"
      ]
     },
     "execution_count": 37,
     "metadata": {},
     "output_type": "execute_result"
    }
   ],
   "source": [
    "# In the training set only port 21 shows up\n",
    "[np.unique(df[[' Destination Port']]) for df in dfs[7:8]]"
   ]
  },
  {
   "cell_type": "markdown",
   "id": "7a6475a5-8e4f-4b77-8374-d25c7a3050e9",
   "metadata": {},
   "source": [
    "# Let's start on Level 2 filter"
   ]
  },
  {
   "cell_type": "markdown",
   "id": "cb3b92c2-1e43-43c6-b7c5-8096fc94a67d",
   "metadata": {},
   "source": [
    "## See how good the following rule works: \n",
    "\n",
    "BENIGN: Normal traffic\n",
    "\n",
    "if ['Destination Port'] in [80, 443] and ['Flow Duration'] < threshold:\n",
    "    return 'BENIGN'"
   ]
  },
  {
   "cell_type": "code",
   "execution_count": 38,
   "id": "b50aac85-caa4-48dd-bd57-c1625ea04e15",
   "metadata": {},
   "outputs": [
    {
     "data": {
      "text/plain": [
       "array(['BENIGN'], dtype=object)"
      ]
     },
     "execution_count": 38,
     "metadata": {},
     "output_type": "execute_result"
    }
   ],
   "source": [
    "# Confirm the indeces for Benign\n",
    "labels_per_group[0]"
   ]
  },
  {
   "cell_type": "code",
   "execution_count": 39,
   "id": "292ce76a-55a3-4a35-9688-20b3ee5c21a7",
   "metadata": {},
   "outputs": [],
   "source": [
    "bdf = dfs[0]"
   ]
  },
  {
   "cell_type": "code",
   "execution_count": 7,
   "id": "c4f9b82c-6685-4b51-9270-e75bcd3e7028",
   "metadata": {},
   "outputs": [],
   "source": [
    "p80fd = bdf[bdf[' Destination Port'] == 80][[' Flow Duration']]"
   ]
  },
  {
   "cell_type": "code",
   "execution_count": 40,
   "id": "60d73cf6-be46-4ec9-87a8-8340477d1709",
   "metadata": {},
   "outputs": [
    {
     "data": {
      "text/plain": [
       " Flow Duration    2.763582e+07\n",
       "dtype: float64"
      ]
     },
     "execution_count": 40,
     "metadata": {},
     "output_type": "execute_result"
    }
   ],
   "source": [
    "p80fd.mean()"
   ]
  },
  {
   "cell_type": "code",
   "execution_count": 41,
   "id": "8cda607c-e0cc-4778-8bcd-acd41d9b0fb2",
   "metadata": {},
   "outputs": [
    {
     "data": {
      "text/plain": [
       " Flow Duration    119999979\n",
       "dtype: int64"
      ]
     },
     "execution_count": 41,
     "metadata": {},
     "output_type": "execute_result"
    }
   ],
   "source": [
    "p80fd.max()"
   ]
  },
  {
   "cell_type": "code",
   "execution_count": 42,
   "id": "66b6c067-82ea-4f72-bd56-f8e56af2095a",
   "metadata": {},
   "outputs": [
    {
     "data": {
      "text/plain": [
       " Flow Duration    4.324367e+07\n",
       "dtype: float64"
      ]
     },
     "execution_count": 42,
     "metadata": {},
     "output_type": "execute_result"
    }
   ],
   "source": [
    "p80fd.std()"
   ]
  },
  {
   "cell_type": "code",
   "execution_count": 43,
   "id": "28ff3956-ab89-43ad-af31-fd807a154e87",
   "metadata": {},
   "outputs": [],
   "source": [
    "ap80=dfs[1:]\n",
    "ap80fd = [df[df[' Destination Port'] == 80][' Flow Duration'] for df in np80]"
   ]
  },
  {
   "cell_type": "code",
   "execution_count": 46,
   "id": "ac02c865-2c34-45dc-a02f-b14f0c4774b3",
   "metadata": {},
   "outputs": [
    {
     "data": {
      "text/plain": [
       "[nan,\n",
       " 17073736.94560649,\n",
       " 23386412.162399754,\n",
       " 57109971.75181178,\n",
       " 57551770.44659353,\n",
       " 57075233.23938647,\n",
       " nan,\n",
       " nan,\n",
       " nan,\n",
       " 739167.1764705882,\n",
       " nan]"
      ]
     },
     "execution_count": 46,
     "metadata": {},
     "output_type": "execute_result"
    }
   ],
   "source": [
    "[df.mean() for df in ap80fd]"
   ]
  },
  {
   "cell_type": "code",
   "execution_count": 47,
   "id": "25e46846-e151-446f-94a6-a11aeddb9518",
   "metadata": {},
   "outputs": [
    {
     "data": {
      "text/plain": [
       "[nan,\n",
       " 103941558,\n",
       " 119311937,\n",
       " 119611868,\n",
       " 119800736,\n",
       " 119046064,\n",
       " nan,\n",
       " nan,\n",
       " nan,\n",
       " 9605093,\n",
       " nan]"
      ]
     },
     "execution_count": 47,
     "metadata": {},
     "output_type": "execute_result"
    }
   ],
   "source": [
    "[df.max() for df in ap80fd]"
   ]
  },
  {
   "cell_type": "code",
   "execution_count": 48,
   "id": "aad28091-45eb-4ade-892d-ab3088ad8270",
   "metadata": {},
   "outputs": [
    {
     "data": {
      "text/plain": [
       "[nan,\n",
       " 31142536.391154718,\n",
       " 27532239.30393215,\n",
       " 46017064.478114426,\n",
       " 36274513.68910278,\n",
       " 49442828.4695022,\n",
       " nan,\n",
       " nan,\n",
       " nan,\n",
       " 1930486.2004055232,\n",
       " nan]"
      ]
     },
     "execution_count": 48,
     "metadata": {},
     "output_type": "execute_result"
    }
   ],
   "source": [
    "[df.std() for df in ap80fd]"
   ]
  },
  {
   "cell_type": "code",
   "execution_count": null,
   "id": "7c712f20-5189-4d9a-805b-c8f50dbbf012",
   "metadata": {},
   "outputs": [],
   "source": []
  }
 ],
 "metadata": {
  "kernelspec": {
   "display_name": "Python 3 (ipykernel)",
   "language": "python",
   "name": "python3"
  },
  "language_info": {
   "codemirror_mode": {
    "name": "ipython",
    "version": 3
   },
   "file_extension": ".py",
   "mimetype": "text/x-python",
   "name": "python",
   "nbconvert_exporter": "python",
   "pygments_lexer": "ipython3",
   "version": "3.10.12"
  }
 },
 "nbformat": 4,
 "nbformat_minor": 5
}
